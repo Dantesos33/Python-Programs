{
 "cells": [
  {
   "cell_type": "markdown",
   "id": "4b27738a",
   "metadata": {},
   "source": [
    "## Logistic Regression"
   ]
  },
  {
   "cell_type": "code",
   "execution_count": 19,
   "id": "15ff8bdc",
   "metadata": {},
   "outputs": [],
   "source": [
    "import pandas as pd\n",
    "from sklearn.model_selection import train_test_split\n",
    "from sklearn.ensemble import RandomForestRegressor\n",
    "from sklearn.metrics import r2_score, accuracy_score, classification_report, confusion_matrix\n",
    "from sklearn.preprocessing import OneHotEncoder\n",
    "from sklearn.compose import make_column_transformer\n",
    "from sklearn.pipeline import make_pipeline\n",
    "from sklearn.linear_model import LinearRegression\n",
    "from sklearn.naive_bayes import MultinomialNB\n",
    "from sklearn.pipeline import Pipeline\n",
    "from sklearn.compose import ColumnTransformer\n",
    "from sklearn.svm import SVR, SVC\n",
    "from sklearn.preprocessing import StandardScaler\n",
    "from sklearn.feature_extraction.text import CountVectorizer"
   ]
  },
  {
   "cell_type": "code",
   "execution_count": 20,
   "id": "82062543",
   "metadata": {},
   "outputs": [],
   "source": [
    "df = pd.read_csv('New_Data_FullyCLeaned.csv')\n",
    "# Concatenate the text columns into a single column\n",
    "df['text_combined'] = df['model'] + ' ' + df['location'] + ' ' + df['engine_type'] + ' ' + df['transmission']\n",
    "\n",
    "X = df[['text_combined']]\n",
    "y = df['price']\n",
    "\n",
    "# Split the data into training and testing sets\n",
    "X_train, X_test, y_train, y_test = train_test_split(X, y, test_size=0.2, random_state=42)"
   ]
  },
  {
   "cell_type": "code",
   "execution_count": 21,
   "id": "268c5774",
   "metadata": {},
   "outputs": [
    {
     "name": "stdout",
     "output_type": "stream",
     "text": [
      "R-squared score with BoW on the test set: 0.74\n"
     ]
    }
   ],
   "source": [
    "\n",
    "# Define the column transformer\n",
    "column_trans = make_column_transformer(\n",
    "    (CountVectorizer(), 'text_combined'),  # BoW feature extraction on the combined text\n",
    "    remainder='passthrough'  # Pass through any non-text columns as they are\n",
    ")\n",
    "\n",
    "# Create a pipeline with the column transformer and linear regression\n",
    "bow_lr_pipe = make_pipeline(\n",
    "    column_trans,\n",
    "    LinearRegression()\n",
    ")\n",
    "\n",
    "# Fit the pipeline on the training data\n",
    "bow_lr_pipe.fit(X_train, y_train)\n",
    "\n",
    "# Make predictions on the test data\n",
    "y_pred_bow = bow_lr_pipe.predict(X_test)\n",
    "\n",
    "# Evaluate the model performance\n",
    "r2_bow = r2_score(y_test, y_pred_bow)\n",
    "print(f'R-squared score with BoW on the test set: {r2_bow:.2f}')"
   ]
  },
  {
   "cell_type": "markdown",
   "id": "33480f1e",
   "metadata": {},
   "source": [
    "## Naive bayes Algorithm"
   ]
  },
  {
   "cell_type": "code",
   "execution_count": 22,
   "id": "56ca5e58",
   "metadata": {},
   "outputs": [
    {
     "name": "stdout",
     "output_type": "stream",
     "text": [
      "R-squared score with BoW and Naive Bayes on the test set: 0.55\n"
     ]
    }
   ],
   "source": [
    "# Define the column transformer\n",
    "column_trans = make_column_transformer(\n",
    "    (CountVectorizer(), 'text_combined'),  # BoW feature extraction on the combined text\n",
    "    remainder='passthrough'  # Pass through any non-text columns as they are\n",
    ")\n",
    "\n",
    "# Create a pipeline with the column transformer and Naive Bayes\n",
    "bow_nb_pipe = Pipeline([\n",
    "    ('bow_nb', column_trans),\n",
    "    ('nb', MultinomialNB())\n",
    "])\n",
    "\n",
    "# Fit the pipeline on the training data\n",
    "bow_nb_pipe.fit(X_train, y_train)\n",
    "\n",
    "# Make predictions on the test data\n",
    "y_pred_bow_nb = bow_nb_pipe.predict(X_test)\n",
    "\n",
    "# Evaluate the model performance\n",
    "r2_bow_nb = r2_score(y_test, y_pred_bow_nb)\n",
    "print(f'R-squared score with BoW and Naive Bayes on the test set: {r2_bow_nb:.2f}')"
   ]
  },
  {
   "cell_type": "markdown",
   "id": "c497f0d7",
   "metadata": {},
   "source": [
    "## Random Forest Algorithm"
   ]
  },
  {
   "cell_type": "code",
   "execution_count": 23,
   "id": "ec2073c5",
   "metadata": {},
   "outputs": [
    {
     "name": "stdout",
     "output_type": "stream",
     "text": [
      "R-squared score on the test set: 0.73\n"
     ]
    }
   ],
   "source": [
    "column_trans = make_column_transformer(\n",
    "    (CountVectorizer(), 'text_combined'),\n",
    "    remainder='passthrough'\n",
    ")\n",
    "\n",
    "# Create a pipeline with BoW and RandomForestRegressor\n",
    "pipeline = make_pipeline(column_trans, RandomForestRegressor())\n",
    "\n",
    "# Fit the pipeline on the training data\n",
    "pipeline.fit(X_train, y_train)\n",
    "\n",
    "# Make predictions on the test data\n",
    "y_pred = pipeline.predict(X_test)\n",
    "\n",
    "# Evaluate the model performance\n",
    "r2 = r2_score(y_test, y_pred)\n",
    "print(f'R-squared score on the test set: {r2:.2f}')"
   ]
  },
  {
   "cell_type": "markdown",
   "id": "d401c5d7",
   "metadata": {},
   "source": [
    "## SVM Algorithm"
   ]
  },
  {
   "cell_type": "code",
   "execution_count": 25,
   "id": "c3f9b921",
   "metadata": {},
   "outputs": [
    {
     "name": "stdout",
     "output_type": "stream",
     "text": [
      "R-squared score on the test set: 0.38\n"
     ]
    }
   ],
   "source": [
    "column_trans = make_column_transformer(\n",
    "    (CountVectorizer(), 'text_combined'),\n",
    "    remainder='passthrough'\n",
    ")\n",
    "\n",
    "# Create a pipeline with BoW, standard scaler, and SVM regressor\n",
    "pipeline = make_pipeline(\n",
    "    column_trans,\n",
    "    StandardScaler(with_mean=False),  # Standardize features by removing the mean and scaling to unit variance\n",
    "    SVC()  # Support Vector Regression\n",
    ")\n",
    "\n",
    "# Fit the pipeline on the training data\n",
    "pipeline.fit(X_train, y_train)\n",
    "\n",
    "# Make predictions on the test data\n",
    "y_pred = pipeline.predict(X_test)\n",
    "\n",
    "# Evaluate the model performance\n",
    "r2 = r2_score(y_test, y_pred)\n",
    "print(f'R-squared score on the test set: {r2:.2f}')"
   ]
  }
 ],
 "metadata": {
  "kernelspec": {
   "display_name": "Python 3 (ipykernel)",
   "language": "python",
   "name": "python3"
  },
  "language_info": {
   "codemirror_mode": {
    "name": "ipython",
    "version": 3
   },
   "file_extension": ".py",
   "mimetype": "text/x-python",
   "name": "python",
   "nbconvert_exporter": "python",
   "pygments_lexer": "ipython3",
   "version": "3.11.4"
  }
 },
 "nbformat": 4,
 "nbformat_minor": 5
}
