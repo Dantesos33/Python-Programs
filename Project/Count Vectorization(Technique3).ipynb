{
 "cells": [
  {
   "cell_type": "markdown",
   "id": "a72fd57b",
   "metadata": {},
   "source": [
    "## Logistic Regression"
   ]
  },
  {
   "cell_type": "code",
   "execution_count": 29,
   "id": "ac4d754c",
   "metadata": {},
   "outputs": [],
   "source": [
    "import pandas as pd\n",
    "from sklearn.model_selection import train_test_split\n",
    "from sklearn.ensemble import RandomForestRegressor\n",
    "from sklearn.metrics import r2_score, accuracy_score, classification_report, confusion_matrix\n",
    "from sklearn.preprocessing import OneHotEncoder\n",
    "from sklearn.compose import make_column_transformer\n",
    "from sklearn.pipeline import make_pipeline\n",
    "from sklearn.linear_model import LinearRegression\n",
    "from sklearn.naive_bayes import MultinomialNB\n",
    "from sklearn.pipeline import Pipeline\n",
    "from sklearn.compose import ColumnTransformer\n",
    "from sklearn.svm import SVR, SVC\n",
    "from sklearn.preprocessing import StandardScaler\n",
    "from sklearn.decomposition import TruncatedSVD\n",
    "from sklearn.feature_extraction.text import CountVectorizer"
   ]
  },
  {
   "cell_type": "code",
   "execution_count": 30,
   "id": "06d89556",
   "metadata": {},
   "outputs": [],
   "source": [
    "df = pd.read_csv('New_Data_FullyCLeaned.csv')\n",
    "# Concatenate the text columns into a single column\n",
    "df['text_combined'] = df['model'] + ' ' + df['location'] + ' ' + df['engine_type'] + ' ' + df['transmission']\n",
    "\n",
    "X = df[['text_combined']]\n",
    "y = df['price']\n",
    "\n",
    "# Split the data into training and testing sets\n",
    "X_train, X_test, y_train, y_test = train_test_split(X, y, test_size=0.2, random_state=42)"
   ]
  },
  {
   "cell_type": "code",
   "execution_count": 31,
   "id": "0cc08699",
   "metadata": {},
   "outputs": [
    {
     "name": "stdout",
     "output_type": "stream",
     "text": [
      "R-squared score with Count Vectorization on the test set: 0.74\n"
     ]
    }
   ],
   "source": [
    "# Define the column transformer\n",
    "column_trans = make_column_transformer(\n",
    "    (CountVectorizer(max_features=1000, stop_words='english'), 'text_combined'),  # Count Vectorization with specific parameters\n",
    "    remainder='passthrough'  # Pass through any non-text columns as they are\n",
    ")\n",
    "\n",
    "# Create a pipeline with the column transformer and linear regression\n",
    "bow_lr_pipe = make_pipeline(\n",
    "    column_trans,\n",
    "    LinearRegression()\n",
    ")\n",
    "\n",
    "# Fit the pipeline on the training data\n",
    "bow_lr_pipe.fit(X_train, y_train)\n",
    "\n",
    "# Make predictions on the test data\n",
    "y_pred_bow = bow_lr_pipe.predict(X_test)\n",
    "\n",
    "# Evaluate the model performance\n",
    "r2_bow = r2_score(y_test, y_pred_bow)\n",
    "print(f'R-squared score with Count Vectorization on the test set: {r2_bow:.2f}')\n"
   ]
  },
  {
   "cell_type": "markdown",
   "id": "392d01db",
   "metadata": {},
   "source": [
    "## Naive bayes Algorithm"
   ]
  },
  {
   "cell_type": "code",
   "execution_count": 32,
   "id": "f132e5b1",
   "metadata": {},
   "outputs": [
    {
     "name": "stdout",
     "output_type": "stream",
     "text": [
      "R-squared score with Count Vectorization and Naive Bayes on the test set: 0.60\n"
     ]
    }
   ],
   "source": [
    "# Define the column transformer with custom CountVectorizer parameters\n",
    "column_trans = make_column_transformer(\n",
    "    (CountVectorizer(max_features=1000, stop_words='english'), 'text_combined'),  # Count Vectorization with specific parameters\n",
    "    remainder='passthrough'  # Pass through any non-text columns as they are\n",
    ")\n",
    "\n",
    "# Create a pipeline with the column transformer and Naive Bayes\n",
    "bow_nb_pipe = make_pipeline(\n",
    "    column_trans,\n",
    "    MultinomialNB()\n",
    ")\n",
    "\n",
    "# Fit the pipeline on the training data\n",
    "bow_nb_pipe.fit(X_train, y_train)\n",
    "\n",
    "# Make predictions on the test data\n",
    "y_pred_bow_nb = bow_nb_pipe.predict(X_test)\n",
    "\n",
    "# Evaluate the model performance\n",
    "r2_bow_nb = r2_score(y_test, y_pred_bow_nb)\n",
    "print(f'R-squared score with Count Vectorization and Naive Bayes on the test set: {r2_bow_nb:.2f}')\n"
   ]
  },
  {
   "cell_type": "markdown",
   "id": "c155db3b",
   "metadata": {},
   "source": [
    "## Random Forest Algorithm"
   ]
  },
  {
   "cell_type": "code",
   "execution_count": 33,
   "id": "03192711",
   "metadata": {},
   "outputs": [
    {
     "name": "stdout",
     "output_type": "stream",
     "text": [
      "R-squared score with Count Vectorization on the test set: 0.74\n"
     ]
    }
   ],
   "source": [
    "# Define the column transformer with CountVectorizer for 'text_combined'\n",
    "column_trans = make_column_transformer(\n",
    "    (CountVectorizer(), 'text_combined'),  # Count Vectorization for 'text_combined'\n",
    "    remainder='passthrough'  # Pass through any non-text columns as they are\n",
    ")\n",
    "\n",
    "# Create a pipeline with the column transformer and RandomForestRegressor\n",
    "pipeline = make_pipeline(column_trans, RandomForestRegressor())\n",
    "\n",
    "# Fit the pipeline on the training data\n",
    "pipeline.fit(X_train, y_train)\n",
    "\n",
    "# Make predictions on the test data\n",
    "y_pred = pipeline.predict(X_test)\n",
    "\n",
    "# Evaluate the model performance\n",
    "r2 = r2_score(y_test, y_pred)\n",
    "print(f'R-squared score with Count Vectorization on the test set: {r2:.2f}')\n"
   ]
  },
  {
   "cell_type": "markdown",
   "id": "5d14712e",
   "metadata": {},
   "source": [
    "## SVM Algorithm"
   ]
  },
  {
   "cell_type": "code",
   "execution_count": 34,
   "id": "b5ee33e5",
   "metadata": {},
   "outputs": [
    {
     "name": "stdout",
     "output_type": "stream",
     "text": [
      "R-squared score with Count Vectorization on the test set: 0.38\n"
     ]
    }
   ],
   "source": [
    "# Define the column transformer with CountVectorizer for 'text_combined'\n",
    "column_trans = make_column_transformer(\n",
    "    (CountVectorizer(), 'text_combined'),  # Count Vectorization for 'text_combined'\n",
    "    remainder='passthrough'  # Pass through any non-text columns as they are\n",
    ")\n",
    "\n",
    "# Create a pipeline with the column transformer, standard scaler, and SVM regressor\n",
    "pipeline = make_pipeline(\n",
    "    column_trans,\n",
    "    StandardScaler(with_mean=False),  # Standardize features by removing the mean and scaling to unit variance\n",
    "    SVC()  # Support Vector Regression\n",
    ")\n",
    "\n",
    "# Fit the pipeline on the training data\n",
    "pipeline.fit(X_train, y_train)\n",
    "\n",
    "# Make predictions on the test data\n",
    "y_pred = pipeline.predict(X_test)\n",
    "\n",
    "# Evaluate the model performance\n",
    "r2 = r2_score(y_test, y_pred)\n",
    "print(f'R-squared score with Count Vectorization on the test set: {r2:.2f}')"
   ]
  }
 ],
 "metadata": {
  "kernelspec": {
   "display_name": "Python 3 (ipykernel)",
   "language": "python",
   "name": "python3"
  },
  "language_info": {
   "codemirror_mode": {
    "name": "ipython",
    "version": 3
   },
   "file_extension": ".py",
   "mimetype": "text/x-python",
   "name": "python",
   "nbconvert_exporter": "python",
   "pygments_lexer": "ipython3",
   "version": "3.11.4"
  }
 },
 "nbformat": 4,
 "nbformat_minor": 5
}
