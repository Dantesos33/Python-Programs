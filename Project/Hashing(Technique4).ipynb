{
 "cells": [
  {
   "cell_type": "markdown",
   "id": "f8f81a65",
   "metadata": {},
   "source": [
    "## Logistic Regression"
   ]
  },
  {
   "cell_type": "code",
   "execution_count": 1,
   "id": "3b25b673",
   "metadata": {},
   "outputs": [],
   "source": [
    "import pandas as pd\n",
    "import numpy as np\n",
    "from sklearn.model_selection import train_test_split\n",
    "from sklearn.ensemble import RandomForestRegressor\n",
    "from sklearn.metrics import r2_score, accuracy_score, classification_report, confusion_matrix\n",
    "from sklearn.preprocessing import OneHotEncoder\n",
    "from sklearn.compose import make_column_transformer\n",
    "from sklearn.pipeline import make_pipeline\n",
    "from sklearn.linear_model import LinearRegression\n",
    "from sklearn.naive_bayes import MultinomialNB\n",
    "from sklearn.pipeline import Pipeline\n",
    "from sklearn.compose import ColumnTransformer\n",
    "from sklearn.svm import SVR, SVC\n",
    "from sklearn.preprocessing import StandardScaler\n",
    "from sklearn.feature_extraction.text import HashingVectorizer\n",
    "from sklearn.preprocessing import FunctionTransformer\n"
   ]
  },
  {
   "cell_type": "code",
   "execution_count": 2,
   "id": "019b0473",
   "metadata": {},
   "outputs": [],
   "source": [
    "df = pd.read_csv('New_Data_FullyCLeaned.csv')\n",
    "# Concatenate the text columns into a single column\n",
    "df['text_combined'] = df['model'] + ' ' + df['location'] + ' ' + df['engine_type'] + ' ' + df['transmission']\n",
    "\n",
    "X = df[['text_combined']]\n",
    "y = df['price']\n",
    "\n",
    "# Split the data into training and testing sets\n",
    "X_train, X_test, y_train, y_test = train_test_split(X, y, test_size=0.2, random_state=42)"
   ]
  },
  {
   "cell_type": "code",
   "execution_count": 3,
   "id": "6dbeff38",
   "metadata": {},
   "outputs": [
    {
     "name": "stdout",
     "output_type": "stream",
     "text": [
      "R-squared score with Hashing on the test set: 0.74\n"
     ]
    }
   ],
   "source": [
    "# Define the column transformer with HashingVectorizer\n",
    "column_trans = make_column_transformer(\n",
    "    (HashingVectorizer(), 'text_combined'),  # Hashing feature extraction on the combined text\n",
    "    remainder='passthrough'  # Pass through any non-text columns as they are\n",
    ")\n",
    "\n",
    "# Create a pipeline with the column transformer and linear regression\n",
    "hash_lr_pipe = make_pipeline(\n",
    "    column_trans,\n",
    "    LinearRegression()\n",
    ")\n",
    "\n",
    "# Fit the pipeline on the training data\n",
    "hash_lr_pipe.fit(X_train, y_train)\n",
    "\n",
    "# Make predictions on the test data\n",
    "y_pred_hash = hash_lr_pipe.predict(X_test)\n",
    "\n",
    "# Evaluate the model performance\n",
    "r2_hash = r2_score(y_test, y_pred_hash)\n",
    "print(f'R-squared score with Hashing on the test set: {r2_hash:.2f}')"
   ]
  },
  {
   "cell_type": "markdown",
   "id": "45a29963",
   "metadata": {},
   "source": [
    "## Naive bayes Algorithm"
   ]
  },
  {
   "cell_type": "code",
   "execution_count": 4,
   "id": "dc674f15",
   "metadata": {},
   "outputs": [
    {
     "name": "stdout",
     "output_type": "stream",
     "text": [
      "R-squared score with Hashing and Naive Bayes on the test set: 0.05\n"
     ]
    }
   ],
   "source": [
    "# Define a function to make input non-negative\n",
    "def make_non_negative(X):\n",
    "    return np.abs(X)\n",
    "\n",
    "# Define the column transformer with HashingVectorizer\n",
    "column_trans = make_column_transformer(\n",
    "    (HashingVectorizer(), 'text_combined'),  # Hashing feature extraction on the combined text\n",
    "    remainder='passthrough'  # Pass through any non-text columns as they are\n",
    ")\n",
    "\n",
    "# Create a pipeline with the column transformer, FunctionTransformer, and Naive Bayes\n",
    "hash_nb_pipe = make_pipeline(\n",
    "    column_trans,\n",
    "    FunctionTransformer(func=make_non_negative),  # Ensure non-negative values\n",
    "    MultinomialNB()  # Multinomial Naive Bayes\n",
    ")\n",
    "\n",
    "# Fit the pipeline on the training data\n",
    "hash_nb_pipe.fit(X_train, y_train)\n",
    "\n",
    "# Make predictions on the test data\n",
    "y_pred_hash_nb = hash_nb_pipe.predict(X_test)\n",
    "\n",
    "# Evaluate the model performance\n",
    "r2_hash_nb = r2_score(y_test, y_pred_hash_nb)\n",
    "print(f'R-squared score with Hashing and Naive Bayes on the test set: {r2_hash_nb:.2f}')\n"
   ]
  },
  {
   "cell_type": "markdown",
   "id": "eac1c9ae",
   "metadata": {},
   "source": [
    "## Random Forest Algorithm"
   ]
  },
  {
   "cell_type": "code",
   "execution_count": null,
   "id": "698f8c16",
   "metadata": {},
   "outputs": [],
   "source": [
    "# Define the column transformer with HashingVectorizer\n",
    "column_trans = make_column_transformer(\n",
    "    (HashingVectorizer(), 'text_combined'),  # Hashing feature extraction on the combined text\n",
    "    remainder='passthrough'  # Pass through any non-text columns as they are\n",
    ")\n",
    "\n",
    "# Create a pipeline with the column transformer and RandomForestRegressor\n",
    "hash_rf_pipe = make_pipeline(column_trans, RandomForestRegressor())\n",
    "\n",
    "# Fit the pipeline on the training data\n",
    "hash_rf_pipe.fit(X_train, y_train)\n",
    "\n",
    "# Make predictions on the test data\n",
    "y_pred_hash_rf = hash_rf_pipe.predict(X_test)\n",
    "\n",
    "# Evaluate the model performance\n",
    "r2_hash_rf = r2_score(y_test, y_pred_hash_rf)\n",
    "print(f'R-squared score with Hashing and RandomForestRegressor on the test set: {r2_hash_rf:.2f}')"
   ]
  },
  {
   "cell_type": "markdown",
   "id": "006ef093",
   "metadata": {},
   "source": [
    "## SVM Algorithm"
   ]
  },
  {
   "cell_type": "code",
   "execution_count": null,
   "id": "a5d3aa41",
   "metadata": {},
   "outputs": [],
   "source": [
    "# Define the column transformer with HashingVectorizer\n",
    "column_trans = make_column_transformer(\n",
    "    (HashingVectorizer(), 'text_combined'),  # Hashing feature extraction on the combined text\n",
    "    remainder='passthrough'  # Pass through any non-text columns as they are\n",
    ")\n",
    "\n",
    "# Create a pipeline with the column transformer, standard scaler, and SVM regressor\n",
    "hash_svc_pipe = make_pipeline(\n",
    "    column_trans,\n",
    "    StandardScaler(with_mean=False),  # Standardize features by removing the mean and scaling to unit variance\n",
    "    SVC()  # Support Vector Regression\n",
    ")\n",
    "\n",
    "# Fit the pipeline on the training data\n",
    "hash_svc_pipe.fit(X_train, y_train)\n",
    "\n",
    "# Make predictions on the test data\n",
    "y_pred_hash_svc = hash_svc_pipe.predict(X_test)\n",
    "\n",
    "# Evaluate the model performance\n",
    "r2_hash_svc = r2_score(y_test, y_pred_hash_svc)\n",
    "print(f'R-squared score with Hashing and SVC on the test set: {r2_hash_svc:.2f}')"
   ]
  },
  {
   "cell_type": "code",
   "execution_count": null,
   "id": "2f8ad978",
   "metadata": {},
   "outputs": [],
   "source": []
  }
 ],
 "metadata": {
  "kernelspec": {
   "display_name": "Python 3 (ipykernel)",
   "language": "python",
   "name": "python3"
  },
  "language_info": {
   "codemirror_mode": {
    "name": "ipython",
    "version": 3
   },
   "file_extension": ".py",
   "mimetype": "text/x-python",
   "name": "python",
   "nbconvert_exporter": "python",
   "pygments_lexer": "ipython3",
   "version": "3.11.4"
  }
 },
 "nbformat": 4,
 "nbformat_minor": 5
}
