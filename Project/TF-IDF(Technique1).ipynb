{
 "cells": [
  {
   "cell_type": "markdown",
   "id": "62953f80",
   "metadata": {},
   "source": [
    "## Logistic Regression"
   ]
  },
  {
   "cell_type": "code",
   "execution_count": 35,
   "id": "56ed51c8",
   "metadata": {},
   "outputs": [],
   "source": [
    "import pandas as pd\n",
    "from sklearn.model_selection import train_test_split\n",
    "from sklearn.ensemble import RandomForestRegressor\n",
    "from sklearn.metrics import r2_score, accuracy_score, classification_report, confusion_matrix\n",
    "from sklearn.preprocessing import OneHotEncoder\n",
    "from sklearn.compose import make_column_transformer\n",
    "from sklearn.pipeline import make_pipeline\n",
    "from sklearn.feature_extraction.text import TfidfVectorizer\n",
    "from sklearn.linear_model import LinearRegression\n",
    "from sklearn.naive_bayes import MultinomialNB\n",
    "from sklearn.pipeline import Pipeline\n",
    "from sklearn.compose import ColumnTransformer\n",
    "from sklearn.svm import SVR, SVC\n",
    "from sklearn.preprocessing import StandardScaler"
   ]
  },
  {
   "cell_type": "code",
   "execution_count": 16,
   "id": "5fffe688",
   "metadata": {},
   "outputs": [],
   "source": [
    "df = pd.read_csv('New_Data_FullyCLeaned.csv')\n",
    "\n",
    "X = df.drop(columns='price')\n",
    "y = df['price']\n",
    "\n",
    "# Split the data into training and testing sets\n",
    "X_train, X_test, y_train, y_test = train_test_split(X, y, test_size=0.2, random_state=42)"
   ]
  },
  {
   "cell_type": "code",
   "execution_count": 17,
   "id": "da9b0162",
   "metadata": {},
   "outputs": [
    {
     "name": "stdout",
     "output_type": "stream",
     "text": [
      "R-squared score on the test set: 0.82\n"
     ]
    }
   ],
   "source": [
    "ohe = OneHotEncoder()\n",
    "ohe.fit(X[['model','location','engine_type','transmission','year','mileage']])\n",
    "\n",
    "column_trans = make_column_transformer((OneHotEncoder(categories = ohe.categories_),['model','location','engine_type','transmission','year','mileage']),remainder='passthrough')\n",
    "\n",
    "lr = LinearRegression()\n",
    "\n",
    "pipe = make_pipeline(column_trans,lr)\n",
    "\n",
    "pipe.fit(X_train,y_train)\n",
    "\n",
    "# Fit the pipeline on the training data\n",
    "pipe.fit(X_train, y_train)\n",
    "\n",
    "# Make predictions on the test data\n",
    "y_pred = pipe.predict(X_test)\n",
    "\n",
    "# Evaluate the model performance\n",
    "# r2 = r2_score(y_test, y_pred)\n",
    "# print(f'R-squared score on the test set: {r2:.2f}')"
   ]
  },
  {
   "cell_type": "markdown",
   "id": "1f7b5443",
   "metadata": {},
   "source": [
    "## Naive bayes Algorithm"
   ]
  },
  {
   "cell_type": "code",
   "execution_count": 39,
   "id": "33e53961",
   "metadata": {},
   "outputs": [
    {
     "name": "stdout",
     "output_type": "stream",
     "text": [
      "R-squared score on the test set: 0.82\n"
     ]
    }
   ],
   "source": [
    "# df = pd.read_csv('New_Data_FullyCLeaned.csv')\n",
    "\n",
    "# X = df.drop(columns='price')\n",
    "# y = df['price']\n",
    "\n",
    "# # Split the data into training and testing sets\n",
    "# X_train, X_test, y_train, y_test = train_test_split(X, y, test_size=0.2, random_state=42)\n",
    "\n",
    "ohe = OneHotEncoder()\n",
    "ohe.fit(X[['model','location','engine_type','transmission']])\n",
    "\n",
    "column_trans = make_column_transformer((OneHotEncoder(categories = ohe.categories_),['model','location','engine_type','transmission']),remainder='passthrough')\n",
    "\n",
    "pipeline = Pipeline([\n",
    "    ('tfidf_nb', column_trans),\n",
    "    ('nb', MultinomialNB())\n",
    "])\n",
    "\n",
    "pipe.fit(X_train,y_train)\n",
    "\n",
    "# Fit the pipeline on the training data\n",
    "pipe.fit(X_train, y_train)\n",
    "\n",
    "# Make predictions on the test data\n",
    "y_pred = pipe.predict(X_test)\n",
    "\n",
    "# Evaluate the model performance\n",
    "r2 = r2_score(y_test, y_pred)\n",
    "print(f'R-squared score on the test set: {r2:.2f}')"
   ]
  },
  {
   "cell_type": "markdown",
   "id": "5275735f",
   "metadata": {},
   "source": [
    "## Random Forest Algorithm"
   ]
  },
  {
   "cell_type": "code",
   "execution_count": 42,
   "id": "dbf05a19",
   "metadata": {},
   "outputs": [
    {
     "name": "stdout",
     "output_type": "stream",
     "text": [
      "R-squared score on the test set: 0.86\n"
     ]
    }
   ],
   "source": [
    "# # Load your CSV data\n",
    "# df = pd.read_csv('New_Data_FullyCLeaned.csv')\n",
    "\n",
    "# X = df.drop(columns='price')\n",
    "# y = df['price']\n",
    "\n",
    "# # Split the data into training and testing sets\n",
    "# X_train, X_test, y_train, y_test = train_test_split(X, y, test_size=0.2, random_state=42)\n",
    "\n",
    "# Use OneHotEncoder for categorical features\n",
    "ohe = OneHotEncoder()\n",
    "ohe.fit(X[['model', 'location', 'engine_type', 'transmission']])\n",
    "\n",
    "# Create a column transformer\n",
    "column_trans = make_column_transformer(\n",
    "    (OneHotEncoder(categories=ohe.categories_), ['model', 'location', 'engine_type', 'transmission']),\n",
    "    remainder='passthrough'\n",
    ")\n",
    "\n",
    "# Create a pipeline with Random Forest\n",
    "pipeline = make_pipeline(column_trans, RandomForestRegressor())\n",
    "\n",
    "# Fit the pipeline on the training data\n",
    "pipeline.fit(X_train, y_train)\n",
    "\n",
    "# Make predictions on the test data\n",
    "y_pred = pipeline.predict(X_test)\n",
    "\n",
    "# Evaluate the model performance\n",
    "r2 = r2_score(y_test, y_pred)\n",
    "print(f'R-squared score on the test set: {r2:.2f}')"
   ]
  },
  {
   "cell_type": "markdown",
   "id": "0c13e5d2",
   "metadata": {},
   "source": [
    "## SVM Algorithm"
   ]
  },
  {
   "cell_type": "code",
   "execution_count": 33,
   "id": "880a1124",
   "metadata": {},
   "outputs": [
    {
     "name": "stdout",
     "output_type": "stream",
     "text": [
      "R-squared score on the test set: -0.32\n"
     ]
    }
   ],
   "source": [
    "# Assuming you have a DataFrame 'df' with columns 'model', 'location', 'engine_type', 'transmission', 'year', 'mileage', and 'price'\n",
    "column_trans = make_column_transformer(\n",
    "    (OneHotEncoder(categories=ohe.categories_), ['model', 'location', 'engine_type', 'transmission']),\n",
    "    remainder='passthrough'\n",
    ")\n",
    "\n",
    "# Create a pipeline with the column transformer, standard scaler, and SVM regressor\n",
    "pipeline = make_pipeline(\n",
    "    column_trans,\n",
    "    StandardScaler(with_mean=False),  # Standardize features by removing the mean and scaling to unit variance\n",
    "    SVC()  # Support Vector Regression\n",
    ")\n",
    "\n",
    "# Fit the pipeline on the training data\n",
    "pipeline.fit(X_train, y_train)\n",
    "\n",
    "# Make predictions on the test data\n",
    "y_pred = pipeline.predict(X_test)\n",
    "\n",
    "# Evaluate the model performance\n",
    "r2 = r2_score(y_test, y_pred)\n",
    "print(f'R-squared score on the test set: {r2:.2f}')"
   ]
  }
 ],
 "metadata": {
  "kernelspec": {
   "display_name": "Python 3 (ipykernel)",
   "language": "python",
   "name": "python3"
  },
  "language_info": {
   "codemirror_mode": {
    "name": "ipython",
    "version": 3
   },
   "file_extension": ".py",
   "mimetype": "text/x-python",
   "name": "python",
   "nbconvert_exporter": "python",
   "pygments_lexer": "ipython3",
   "version": "3.11.4"
  }
 },
 "nbformat": 4,
 "nbformat_minor": 5
}
